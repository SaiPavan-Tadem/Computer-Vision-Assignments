{
  "nbformat": 4,
  "nbformat_minor": 0,
  "metadata": {
    "colab": {
      "name": "Assign_1bCV.ipynb",
      "provenance": [],
      "collapsed_sections": []
    },
    "kernelspec": {
      "name": "python3",
      "display_name": "Python 3"
    },
    "language_info": {
      "name": "python"
    }
  },
  "cells": [
    {
      "cell_type": "markdown",
      "source": [
        "Importing required Libraries"
      ],
      "metadata": {
        "id": "DXxBG0iNZBIA"
      }
    },
    {
      "cell_type": "code",
      "execution_count": null,
      "metadata": {
        "id": "SDOuICyukpDk"
      },
      "outputs": [],
      "source": [
        "import numpy as np\n",
        "from numpy.linalg import inv"
      ]
    },
    {
      "cell_type": "code",
      "source": [
        "A=np.array([[0.49,0.31,0.2],[0.177,0.813,0.01],[0,0.01,0.99]]) \n",
        "print(A)"
      ],
      "metadata": {
        "colab": {
          "base_uri": "https://localhost:8080/"
        },
        "id": "5dRLSgHykyC0",
        "outputId": "c676c05e-5847-4824-e71c-58dcd634959f"
      },
      "execution_count": null,
      "outputs": [
        {
          "output_type": "stream",
          "name": "stdout",
          "text": [
            "[[0.49  0.31  0.2  ]\n",
            " [0.177 0.813 0.01 ]\n",
            " [0.    0.01  0.99 ]]\n"
          ]
        }
      ]
    },
    {
      "cell_type": "code",
      "source": [
        "import pandas as pd\n",
        "df = pd.read_csv('CSVR.csv')"
      ],
      "metadata": {
        "id": "V1ex7Uww90wG"
      },
      "execution_count": null,
      "outputs": []
    },
    {
      "cell_type": "code",
      "source": [
        "# Object reflactances of x,y,z\n",
        "li1=['x','y','z']\n",
        "li2=['R_Lambda_X','R_Lambda_Y','R_Lambda_Z']\n",
        "i=0\n",
        "for ele in li1:\n",
        "  df[li2[i]]=df[ele]/df[ele].max()\n",
        "  i=i+1"
      ],
      "metadata": {
        "id": "NPvKzDGeLtAf"
      },
      "execution_count": null,
      "outputs": []
    },
    {
      "cell_type": "code",
      "source": [
        "# Light spectra with respect to Uniform_spectra and object reflactances\n",
        "li3=['C_lambda_U_RX','C_lambda_U_RY','C_lambda_U_RZ']\n",
        "df[li3[0]]=df['uniform_spectra']*df[li2[0]]\n",
        "df[li3[1]]=df['uniform_spectra']*df[li2[1]]\n",
        "df[li3[2]]=df['uniform_spectra']*df[li2[2]]"
      ],
      "metadata": {
        "id": "z8JKd9tCaz5J"
      },
      "execution_count": null,
      "outputs": []
    },
    {
      "cell_type": "code",
      "source": [
        "# X(lambda),Y(lambda),Z(lambda) with respect to Uniform _Spectra and object reflactance as x\n",
        "X_Lambda_U=np.dot(df['x'],df['C_lambda_U_RX'])\n",
        "Y_Lambda_U=np.dot(df['y'],df['C_lambda_U_RX'])\n",
        "Z_Lambda_U=np.dot(df['z'],df['C_lambda_U_RX'])\n",
        "XYZ_U=np.array([[X_Lambda_U],[Y_Lambda_U],[Z_Lambda_U]])\n",
        "#print(XYZ_U)\n",
        "XYZ_U.shape\n",
        "RGB_U=np.dot(inv(A),XYZ_U)"
      ],
      "metadata": {
        "id": "pFnz6SKExv7w"
      },
      "execution_count": null,
      "outputs": []
    },
    {
      "cell_type": "code",
      "source": [
        "# X(lambda),Y(lambda),Z(lambda) with respect to Uniform _Spectra and object reflactance as y\n",
        "X_Lambda_UY=np.dot(df['x'],df['C_lambda_U_RY'])\n",
        "Y_Lambda_UY=np.dot(df['y'],df['C_lambda_U_RY'])\n",
        "Z_Lambda_UY=np.dot(df['z'],df['C_lambda_U_RY'])\n",
        "XYZ_UY=np.array([[X_Lambda_UY],[Y_Lambda_UY],[Z_Lambda_UY]])\n",
        "#print(XYZ_UY)\n",
        "XYZ_UY.shape\n",
        "RGB_UY=np.dot(inv(A),XYZ_UY)"
      ],
      "metadata": {
        "id": "-xIllXCID74T"
      },
      "execution_count": null,
      "outputs": []
    },
    {
      "cell_type": "code",
      "source": [
        "# X(lambda),Y(lambda),Z(lambda) with respect to Uniform _Spectra and object reflactance as z\n",
        "X_Lambda_UZ=np.dot(df['x'],df['C_lambda_U_RZ'])\n",
        "Y_Lambda_UZ=np.dot(df['y'],df['C_lambda_U_RZ'])\n",
        "Z_Lambda_UZ=np.dot(df['z'],df['C_lambda_U_RZ'])\n",
        "XYZ_UZ=np.array([[X_Lambda_UZ],[Y_Lambda_UZ],[Z_Lambda_UZ]])\n",
        "#print(XYZ_UY)\n",
        "XYZ_UZ.shape\n",
        "RGB_UZ=np.dot(inv(A),XYZ_UZ)"
      ],
      "metadata": {
        "id": "JKMw0D1BD77q"
      },
      "execution_count": null,
      "outputs": []
    },
    {
      "cell_type": "code",
      "source": [
        "print(RGB_U*255)\n",
        "print(RGB_UY*255)\n",
        "print(RGB_UZ*255)"
      ],
      "metadata": {
        "colab": {
          "base_uri": "https://localhost:8080/"
        },
        "id": "bp3F4YAhD7-N",
        "outputId": "be44b32c-3ecf-4c29-ac11-295da0571ba2"
      },
      "execution_count": null,
      "outputs": [
        {
          "output_type": "stream",
          "name": "stdout",
          "text": [
            "[[241.26373195]\n",
            " [103.35605037]\n",
            " [ 57.08384717]]\n",
            "[[145.14673463]\n",
            " [194.78331419]\n",
            " [ 18.52774375]]\n",
            "[[-17.14308374]\n",
            " [ 15.4051954 ]\n",
            " [189.61853405]]\n"
          ]
        }
      ]
    },
    {
      "cell_type": "markdown",
      "source": [
        "Printing All Results at once"
      ],
      "metadata": {
        "id": "_NQgxtGHf6sY"
      }
    },
    {
      "cell_type": "code",
      "source": [
        "print('        RESULTS')\n",
        "print('1.')\n",
        "print('  Tristimulus  R,G,B values with respect to Uniform spectra and Object reflactance as x')\n",
        "print(RGB_U*255)\n",
        "print(' ')\n",
        "print('2')\n",
        "print('  Tristimulus  R,G,B Values with respect to Uniform spectra and Object reflactance as y')\n",
        "print(RGB_UY*255)\n",
        "print('')\n",
        "print('3')\n",
        "print('  Tristimulus R,G,B Values with respect to Uniform spectra and object reflactance as z')\n",
        "print(RGB_UZ*255)"
      ],
      "metadata": {
        "colab": {
          "base_uri": "https://localhost:8080/"
        },
        "id": "GlvKX-ocjjum",
        "outputId": "112cdef7-dd0e-4bcc-f9ce-07c39a906b7f"
      },
      "execution_count": null,
      "outputs": [
        {
          "output_type": "stream",
          "name": "stdout",
          "text": [
            "        RESULTS\n",
            "1.\n",
            "  Tristimulus  R,G,B values with respect to Uniform spectra and Object reflactance as x\n",
            "[[241.26373195]\n",
            " [103.35605037]\n",
            " [ 57.08384717]]\n",
            " \n",
            "2\n",
            "  Tristimulus  R,G,B Values with respect to Uniform spectra and Object reflactance as y\n",
            "[[145.14673463]\n",
            " [194.78331419]\n",
            " [ 18.52774375]]\n",
            "\n",
            "3\n",
            "  Tristimulus R,G,B Values with respect to Uniform spectra and object reflactance as z\n",
            "[[-17.14308374]\n",
            " [ 15.4051954 ]\n",
            " [189.61853405]]\n"
          ]
        }
      ]
    },
    {
      "cell_type": "code",
      "source": [
        ""
      ],
      "metadata": {
        "id": "eA-0mCoDD8BH"
      },
      "execution_count": null,
      "outputs": []
    }
  ]
}