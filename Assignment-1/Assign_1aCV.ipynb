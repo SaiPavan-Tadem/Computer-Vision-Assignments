{
  "nbformat": 4,
  "nbformat_minor": 0,
  "metadata": {
    "colab": {
      "name": "Assign_1aCV.ipynb",
      "provenance": [],
      "collapsed_sections": []
    },
    "kernelspec": {
      "name": "python3",
      "display_name": "Python 3"
    },
    "language_info": {
      "name": "python"
    }
  },
  "cells": [
    {
      "cell_type": "code",
      "execution_count": 1,
      "metadata": {
        "id": "SDOuICyukpDk"
      },
      "outputs": [],
      "source": [
        "import numpy as np\n",
        "from numpy.linalg import inv"
      ]
    },
    {
      "cell_type": "code",
      "source": [
        "A=np.array([[0.49,0.31,0.2],[0.177,0.813,0.01],[0,0.01,0.99]])\n",
        "print(A)"
      ],
      "metadata": {
        "colab": {
          "base_uri": "https://localhost:8080/"
        },
        "id": "5dRLSgHykyC0",
        "outputId": "26a5d121-4c2d-4d33-d708-f6c376c3b07b"
      },
      "execution_count": 2,
      "outputs": [
        {
          "output_type": "stream",
          "name": "stdout",
          "text": [
            "[[0.49  0.31  0.2  ]\n",
            " [0.177 0.813 0.01 ]\n",
            " [0.    0.01  0.99 ]]\n"
          ]
        }
      ]
    },
    {
      "cell_type": "code",
      "source": [
        "import pandas as pd\n",
        "df = pd.read_csv('CSVR.csv')"
      ],
      "metadata": {
        "id": "V1ex7Uww90wG"
      },
      "execution_count": 3,
      "outputs": []
    },
    {
      "cell_type": "code",
      "source": [
        "# Light spectra with respect to (Uniform,silvania,philips) _spectra and Unity object reflactances\n",
        "li3=['C_lambda_U_R','C_lambda_S_R','C_lambda_P_R']\n",
        "df[li3[0]]=df['uniform_spectra']\n",
        "df[li3[1]]=df['silvania_spectra']\n",
        "df[li3[2]]=df['philips_spectra']"
      ],
      "metadata": {
        "id": "z8JKd9tCaz5J"
      },
      "execution_count": 4,
      "outputs": []
    },
    {
      "cell_type": "code",
      "source": [
        "# X(lambda),Y(lambda),Z(lambda) with respect to Uniform object reflactance and unity spectra\n",
        "X_Lambda_U=np.dot(df['x'],df['C_lambda_U_R'])\n",
        "Y_Lambda_U=np.dot(df['y'],df['C_lambda_U_R'])\n",
        "Z_Lambda_U=np.dot(df['z'],df['C_lambda_U_R'])\n",
        "XYZ_U=np.array([[X_Lambda_U],[Y_Lambda_U],[Z_Lambda_U]])\n",
        "#print(XYZ_U)\n",
        "XYZ_U.shape\n",
        "RGB_U=np.dot(inv(A),XYZ_U)\n",
        "print('R,G,B values with respect to Uniform object reflactance and unity spectra')\n",
        "print(RGB_U*255)"
      ],
      "metadata": {
        "id": "pFnz6SKExv7w",
        "colab": {
          "base_uri": "https://localhost:8080/"
        },
        "outputId": "d6633ab8-c393-43d2-d8ce-d74fe7fbc6d2"
      },
      "execution_count": 5,
      "outputs": [
        {
          "output_type": "stream",
          "name": "stdout",
          "text": [
            "R,G,B values with respect to Uniform object reflactance and unity spectra\n",
            "[[255.00008371]\n",
            " [254.99993257]\n",
            " [255.00002515]]\n"
          ]
        }
      ]
    },
    {
      "cell_type": "code",
      "source": [
        "# X(lambda),Y(lambda),Z(lambda) with respect to Uniform object reflactance and Silvania spectra\n",
        "X_Lambda_S=np.dot(df['x'],df['C_lambda_S_R'])\n",
        "Y_Lambda_S=np.dot(df['y'],df['C_lambda_S_R'])\n",
        "Z_Lambda_S=np.dot(df['z'],df['C_lambda_S_R'])\n",
        "XYZ_S=np.array([[X_Lambda_S],[Y_Lambda_S],[Z_Lambda_S]])\n",
        "#print(XYZ_S)\n",
        "XYZ_S.shape\n",
        "RGB_S=np.dot(inv(A),XYZ_S)\n",
        "print('R,G,B Values with respect to Uniform object reflactance and Silvania spectra')\n",
        "print(RGB_S*255)"
      ],
      "metadata": {
        "colab": {
          "base_uri": "https://localhost:8080/"
        },
        "id": "t4xcFvfqCZA6",
        "outputId": "0b92a1fb-48fe-4340-95b9-e305214136dc"
      },
      "execution_count": 6,
      "outputs": [
        {
          "output_type": "stream",
          "name": "stdout",
          "text": [
            "R,G,B Values with respect to Uniform object reflactance and Silvania spectra\n",
            "[[175.12179326]\n",
            " [ 99.97248522]\n",
            " [ 33.24289222]]\n"
          ]
        }
      ]
    },
    {
      "cell_type": "code",
      "source": [
        "# X(lambda),Y(lambda),Z(lambda) with respect to Uniform object reflactance and Philips spectra\n",
        "X_Lambda_P=np.dot(df['x'],df['C_lambda_P_R'])\n",
        "Y_Lambda_P=np.dot(df['y'],df['C_lambda_P_R'])\n",
        "Z_Lambda_P=np.dot(df['z'],df['C_lambda_P_R'])\n",
        "XYZ_P=np.array([[X_Lambda_P],[Y_Lambda_P],[Z_Lambda_P]])\n",
        "#print(XYZ_P)\n",
        "XYZ_P.shape\n",
        "RGB_P=np.dot(inv(A),XYZ_P)\n",
        "print('R,G,B Values with respect to Uniform object reflactance and Philips spectra')\n",
        "print(RGB_P*255)"
      ],
      "metadata": {
        "colab": {
          "base_uri": "https://localhost:8080/"
        },
        "id": "An_D9bqbCZHu",
        "outputId": "2b77bdee-f959-4b80-caf1-223ed36c18e5"
      },
      "execution_count": 7,
      "outputs": [
        {
          "output_type": "stream",
          "name": "stdout",
          "text": [
            "R,G,B Values with respect to Uniform object reflactance and Philips spectra\n",
            "[[113.6077597 ]\n",
            " [ 50.87541779]\n",
            " [ 15.39310008]]\n"
          ]
        }
      ]
    },
    {
      "cell_type": "markdown",
      "source": [
        "ALL Results at Once Printing"
      ],
      "metadata": {
        "id": "1uEZXindfcaw"
      }
    },
    {
      "cell_type": "code",
      "source": [
        "print('                RESULTS        ')\n",
        "print('1.')\n",
        "print(' Tristimulus R,G,B values with respect to Uniform object reflactance and   unity spectra')\n",
        "print(RGB_U*255)\n",
        "print(' ')\n",
        "print('2')\n",
        "print('Tristimulus  R,G,B Values with respect to Uniform object reflactance and   Silvania spectra')\n",
        "print(RGB_S*255)\n",
        "print('')\n",
        "print('3')\n",
        "print('Tristimulus   R,G,B Values with respect to Uniform object reflactance and Philips spectra')\n",
        "print(RGB_P*255)"
      ],
      "metadata": {
        "colab": {
          "base_uri": "https://localhost:8080/"
        },
        "id": "X9q1WJIrhZaM",
        "outputId": "3f5c8a57-098b-404d-c860-9c1483b114a3"
      },
      "execution_count": 8,
      "outputs": [
        {
          "output_type": "stream",
          "name": "stdout",
          "text": [
            "                RESULTS        \n",
            "1.\n",
            " Tristimulus R,G,B values with respect to Uniform object reflactance and   unity spectra\n",
            "[[255.00008371]\n",
            " [254.99993257]\n",
            " [255.00002515]]\n",
            " \n",
            "2\n",
            "Tristimulus  R,G,B Values with respect to Uniform object reflactance and   Silvania spectra\n",
            "[[175.12179326]\n",
            " [ 99.97248522]\n",
            " [ 33.24289222]]\n",
            "\n",
            "3\n",
            "Tristimulus   R,G,B Values with respect to Uniform object reflactance and Philips spectra\n",
            "[[113.6077597 ]\n",
            " [ 50.87541779]\n",
            " [ 15.39310008]]\n"
          ]
        }
      ]
    }
  ]
}